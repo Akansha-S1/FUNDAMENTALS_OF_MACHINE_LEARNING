{
 "cells": [
  {
   "cell_type": "code",
   "execution_count": null,
   "id": "d0ca531c",
   "metadata": {},
   "outputs": [],
   "source": [
    "#NAME: AKANSHA SHETTY  USN: 22BTRAD002  COURSE: AI/DE  SECTION: A"
   ]
  },
  {
   "cell_type": "markdown",
   "id": "c1a7a024",
   "metadata": {},
   "source": [
    "## Apply Min-Max scaling to dataset:"
   ]
  },
  {
   "cell_type": "code",
   "execution_count": 1,
   "id": "f1332be2",
   "metadata": {},
   "outputs": [
    {
     "name": "stdout",
     "output_type": "stream",
     "text": [
      "Scaled DataFrame:\n",
      "       CRIM    ZN     INDUS  CHAS       NOX        RM       AGE       DIS  \\\n",
      "0  0.000000  0.18  0.067815   0.0  0.314815  0.577505  0.641607  0.269203   \n",
      "1  0.000236  0.00  0.242302   0.0  0.172840  0.547998  0.782698  0.348962   \n",
      "2  0.000236  0.00  0.242302   0.0  0.172840  0.694386  0.599382  0.348962   \n",
      "3  0.000293  0.00  0.063050   0.0  0.150206  0.658555  0.441813  0.448545   \n",
      "4  0.000705  0.00  0.063050   0.0  0.150206  0.687105  0.528321  0.448545   \n",
      "\n",
      "        RAD       TAX   PTRATIO         B     LSTAT      MEDV  \n",
      "0  0.000000  0.208015  0.287234  1.000000  0.089680  0.422222  \n",
      "1  0.043478  0.104962  0.553191  1.000000  0.204470  0.368889  \n",
      "2  0.043478  0.104962  0.553191  0.989737  0.063466  0.660000  \n",
      "3  0.086957  0.066794  0.648936  0.994276  0.033389  0.631111  \n",
      "4  0.086957  0.066794  0.648936  1.000000       NaN  0.693333  \n"
     ]
    }
   ],
   "source": [
    "import pandas as pd\n",
    "from sklearn.preprocessing import MinMaxScaler\n",
    "\n",
    "csv_file_path = r'C:\\Users\\akans\\OneDrive\\Desktop\\SEM_3\\TERM_7\\ML_T7\\HousingData.csv'\n",
    "\n",
    "df = pd.read_csv(csv_file_path)\n",
    "\n",
    "columns_to_scale = ['CRIM', 'ZN', 'INDUS', 'CHAS', 'NOX', 'RM', 'AGE', 'DIS', 'RAD', 'TAX', 'PTRATIO', 'B', 'LSTAT', 'MEDV']\n",
    "\n",
    "scaler = MinMaxScaler()\n",
    "\n",
    "df[columns_to_scale] = scaler.fit_transform(df[columns_to_scale])\n",
    "\n",
    "print(\"Scaled DataFrame:\")\n",
    "print(df.head())\n"
   ]
  },
  {
   "cell_type": "markdown",
   "id": "14d25be8",
   "metadata": {},
   "source": [
    "## Apply Standardization to dataset:"
   ]
  },
  {
   "cell_type": "code",
   "execution_count": 2,
   "id": "2d820c3d",
   "metadata": {},
   "outputs": [
    {
     "name": "stdout",
     "output_type": "stream",
     "text": [
      "Standardized DataFrame:\n",
      "       CRIM        ZN     INDUS      CHAS       NOX        RM       AGE  \\\n",
      "0 -0.413898  0.290525 -1.284840 -0.274265 -0.144217  0.413672 -0.118643   \n",
      "1 -0.411488 -0.479864 -0.587798 -0.274265 -0.740262  0.194274  0.371156   \n",
      "2 -0.411491 -0.479864 -0.587798 -0.274265 -0.740262  1.282714 -0.265225   \n",
      "3 -0.410908 -0.479864 -1.303877 -0.274265 -0.835284  1.016303 -0.812226   \n",
      "4 -0.406697 -0.479864 -1.303877 -0.274265 -0.835284  1.228577 -0.511911   \n",
      "\n",
      "        DIS       RAD       TAX   PTRATIO         B     LSTAT      MEDV  \n",
      "0  0.140214 -0.982843 -0.666608 -1.459000  0.441052 -1.082105  0.159686  \n",
      "1  0.557160 -0.867883 -0.987329 -0.303094  0.441052 -0.500165 -0.101524  \n",
      "2  0.557160 -0.867883 -0.987329 -0.303094  0.396427 -1.215000  1.324247  \n",
      "3  1.077737 -0.752922 -1.106115  0.113032  0.416163 -1.367479  1.182758  \n",
      "4  1.077737 -0.752922 -1.106115  0.113032  0.441052       NaN  1.487503  \n"
     ]
    }
   ],
   "source": [
    "import pandas as pd\n",
    "from sklearn.preprocessing import StandardScaler\n",
    "\n",
    "csv_file_path = r'C:\\Users\\akans\\OneDrive\\Desktop\\SEM_3\\TERM_7\\ML_T7\\HousingData.csv'\n",
    "df = pd.read_csv(csv_file_path)\n",
    "\n",
    "columns_to_standardize = ['CRIM', 'ZN', 'INDUS', 'CHAS', 'NOX', 'RM', 'AGE', 'DIS', 'RAD', 'TAX', 'PTRATIO', 'B', 'LSTAT', 'MEDV']\n",
    "\n",
    "scaler = StandardScaler()\n",
    "\n",
    "df[columns_to_standardize] = scaler.fit_transform(df[columns_to_standardize])\n",
    "\n",
    "print(\"Standardized DataFrame:\")\n",
    "print(df.head())\n"
   ]
  },
  {
   "cell_type": "markdown",
   "id": "301d04ba",
   "metadata": {},
   "source": [
    "## Apply Robust scaling to the dataset:"
   ]
  },
  {
   "cell_type": "code",
   "execution_count": 3,
   "id": "b649630e",
   "metadata": {},
   "outputs": [
    {
     "name": "stdout",
     "output_type": "stream",
     "text": [
      "Scaled DataFrame:\n",
      "       CRIM    ZN     INDUS  CHAS       NOX        RM       AGE       DIS  \\\n",
      "0 -0.071124  1.44 -0.571650   0.0  0.000000  0.496612 -0.237705  0.285777   \n",
      "1 -0.065090  0.00 -0.202943   0.0 -0.394286  0.287940  0.043033  0.569789   \n",
      "2 -0.065095  0.00 -0.202943   0.0 -0.394286  1.323171 -0.321721  0.569789   \n",
      "3 -0.063635  0.00 -0.581720   0.0 -0.457143  1.069783 -0.635246  0.924391   \n",
      "4 -0.053090  0.00 -0.581720   0.0 -0.457143  1.271680 -0.463115  0.924391   \n",
      "\n",
      "    RAD       TAX   PTRATIO         B     LSTAT      MEDV  \n",
      "0 -0.20 -0.087855 -1.339286  0.261902 -0.656155  0.351097  \n",
      "1 -0.15 -0.227390 -0.446429  0.261902 -0.232960  0.050157  \n",
      "2 -0.15 -0.227390 -0.446429  0.066675 -0.752798  1.692790  \n",
      "3 -0.10 -0.279070 -0.125000  0.153016 -0.863683  1.529781  \n",
      "4 -0.10 -0.279070 -0.125000  0.261902       NaN  1.880878  \n"
     ]
    }
   ],
   "source": [
    "import pandas as pd\n",
    "from sklearn.preprocessing import RobustScaler\n",
    "\n",
    "csv_file_path = r'C:\\Users\\akans\\OneDrive\\Desktop\\SEM_3\\TERM_7\\ML_T7\\HousingData.csv'\n",
    "df = pd.read_csv(csv_file_path)\n",
    "\n",
    "columns_to_scale = ['CRIM', 'ZN', 'INDUS', 'CHAS', 'NOX', 'RM', 'AGE', 'DIS', 'RAD', 'TAX', 'PTRATIO', 'B', 'LSTAT', 'MEDV']\n",
    "scaler = RobustScaler()\n",
    "df[columns_to_scale] = scaler.fit_transform(df[columns_to_scale])\n",
    "\n",
    "print(\"Scaled DataFrame:\")\n",
    "print(df.head())"
   ]
  },
  {
   "cell_type": "markdown",
   "id": "6463c80a",
   "metadata": {},
   "source": [
    "## Assess the impact of scaling on the dataset:"
   ]
  },
  {
   "cell_type": "code",
   "execution_count": null,
   "id": "b05e9fa4",
   "metadata": {},
   "outputs": [],
   "source": []
  }
 ],
 "metadata": {
  "kernelspec": {
   "display_name": "Python 3 (ipykernel)",
   "language": "python",
   "name": "python3"
  },
  "language_info": {
   "codemirror_mode": {
    "name": "ipython",
    "version": 3
   },
   "file_extension": ".py",
   "mimetype": "text/x-python",
   "name": "python",
   "nbconvert_exporter": "python",
   "pygments_lexer": "ipython3",
   "version": "3.9.13"
  }
 },
 "nbformat": 4,
 "nbformat_minor": 5
}
