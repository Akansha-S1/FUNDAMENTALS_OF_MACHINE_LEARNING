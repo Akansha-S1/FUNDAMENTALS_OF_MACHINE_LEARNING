{
 "cells": [
  {
   "cell_type": "code",
   "execution_count": null,
   "id": "51de0cdb",
   "metadata": {},
   "outputs": [],
   "source": [
    "#NAME: AKANSHA SHETTY  USN: 22BTRAD002  COURSE: AI/DE  SECTION: A"
   ]
  },
  {
   "cell_type": "markdown",
   "id": "f931ae46",
   "metadata": {},
   "source": [
    "## Implementing LogisticRegression algorithm:"
   ]
  },
  {
   "cell_type": "code",
   "execution_count": null,
   "id": "e82f3a07",
   "metadata": {},
   "outputs": [],
   "source": []
  },
  {
   "cell_type": "code",
   "execution_count": null,
   "id": "74f8765f",
   "metadata": {},
   "outputs": [],
   "source": []
  },
  {
   "cell_type": "code",
   "execution_count": null,
   "id": "5c90c8d0",
   "metadata": {},
   "outputs": [],
   "source": []
  }
 ],
 "metadata": {
  "kernelspec": {
   "display_name": "Python 3 (ipykernel)",
   "language": "python",
   "name": "python3"
  },
  "language_info": {
   "codemirror_mode": {
    "name": "ipython",
    "version": 3
   },
   "file_extension": ".py",
   "mimetype": "text/x-python",
   "name": "python",
   "nbconvert_exporter": "python",
   "pygments_lexer": "ipython3",
   "version": "3.9.13"
  }
 },
 "nbformat": 4,
 "nbformat_minor": 5
}
